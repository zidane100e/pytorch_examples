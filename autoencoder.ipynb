{
 "cells": [
  {
   "cell_type": "markdown",
   "metadata": {},
   "source": [
    "## Autoencoder template"
   ]
  },
  {
   "cell_type": "code",
   "execution_count": 1,
   "metadata": {},
   "outputs": [],
   "source": [
    "import os\n",
    "os.environ[\"CUDA_DEVICE_ORDER\"]=\"PCI_BUS_ID\"   \n",
    "os.environ[\"CUDA_VISIBLE_DEVICES\"]=\"3\""
   ]
  },
  {
   "cell_type": "code",
   "execution_count": 2,
   "metadata": {},
   "outputs": [],
   "source": [
    "import torch\n",
    "from torch import nn\n",
    "import torch.nn.functional as F\n",
    "import torch.optim as optim\n",
    "from torch.autograd import Variable\n",
    "from torch.utils.data import Dataset, DataLoader"
   ]
  },
  {
   "cell_type": "code",
   "execution_count": 77,
   "metadata": {},
   "outputs": [],
   "source": [
    "device = torch.device(\"cuda\")"
   ]
  },
  {
   "cell_type": "markdown",
   "metadata": {},
   "source": [
    "## get DATA"
   ]
  },
  {
   "cell_type": "code",
   "execution_count": 65,
   "metadata": {},
   "outputs": [
    {
     "data": {
      "text/plain": [
       "tensor([0., 0., 0., 1., 0., 0., 0., 0., 0., 0.])"
      ]
     },
     "execution_count": 65,
     "metadata": {},
     "output_type": "execute_result"
    }
   ],
   "source": [
    "def int2onehot(x, n_class):\n",
    "    ret = torch.zeros(n_class)\n",
    "    ret[x] = 1\n",
    "    return ret\n",
    "int2onehot(3, 10)"
   ]
  },
  {
   "cell_type": "code",
   "execution_count": 87,
   "metadata": {},
   "outputs": [],
   "source": [
    "import torchvision.datasets as dset\n",
    "import torchvision.transforms as transforms\n",
    "\n",
    "def int2onehot(x, n_class):\n",
    "    ret = torch.zeros(n_class)\n",
    "    ret[x] = 1\n",
    "    return ret\n",
    "    \n",
    "trans = transforms.Compose([transforms.ToTensor(), transforms.Normalize((0.5,), (1.0,))])\n",
    "# if not exist, download mnist dataset\n",
    "dir_s = '/home/bwlee/data'\n",
    "train_set = dset.MNIST(root=dir_s, train=True, transform=trans, download=True)\n",
    "test_set = dset.MNIST(root=dir_s, train=False, transform=trans, download=True)\n",
    "# change 2D to 1D for MLP\n",
    "# train_set\n",
    "# [(tensor(batch, channel, x, y), label_one_hot)]\n",
    "# train_set2\n",
    "# [(tensor(batch, channel, x*y), label_one_hot)] \n",
    "n_class = 10\n",
    "train_set2, test_set2 = [], []\n",
    "for data in train_set:\n",
    "    #train_set2.append([data[0].view(1,-1), int2onehot(data[1], n_class)])\n",
    "    train_set2.append([data[0].view(-1), data[1]])\n",
    "for data in test_set:\n",
    "    #test_set2.append([data[0].view(1,-1), int2onehot(data[1], n_class)])\n",
    "    test_set2.append([data[0].view(-1), data[1]])\n",
    "    \n",
    "batch_size = 512\n",
    "# train_loader, test_loader has form of [data_batch, tgt_batch]\n",
    "# data_batch in [batch, channel, x, y]\n",
    "# data_batch in [batch]\n",
    "train_loader = torch.utils.data.DataLoader(\n",
    "    dataset=train_set2,\n",
    "    batch_size=batch_size,\n",
    "    shuffle=True\n",
    ")\n",
    "test_loader = torch.utils.data.DataLoader(\n",
    "    dataset=test_set2,\n",
    "    batch_size=batch_size,\n",
    "    shuffle=False\n",
    ")"
   ]
  },
  {
   "cell_type": "code",
   "execution_count": 88,
   "metadata": {},
   "outputs": [
    {
     "name": "stdout",
     "output_type": "stream",
     "text": [
      "torch.Size([1, 28, 28])\n",
      "2\n",
      "10000\n",
      "torch.Size([784])\n",
      "2\n",
      "10000\n"
     ]
    }
   ],
   "source": [
    "print(test_set[1][0].size())\n",
    "print(test_set[1][1])\n",
    "print(len(test_set))\n",
    "print(test_set2[1][0].size())\n",
    "print(test_set2[1][1])\n",
    "print(len(test_set2))"
   ]
  },
  {
   "cell_type": "code",
   "execution_count": 89,
   "metadata": {},
   "outputs": [
    {
     "name": "stdout",
     "output_type": "stream",
     "text": [
      "torch.Size([512, 784])\n",
      "torch.Size([512])\n",
      "tensor([[-0.5000, -0.5000, -0.5000,  ..., -0.5000, -0.5000, -0.5000],\n",
      "        [-0.5000, -0.5000, -0.5000,  ..., -0.5000, -0.5000, -0.5000],\n",
      "        [-0.5000, -0.5000, -0.5000,  ..., -0.5000, -0.5000, -0.5000]])\n",
      "tensor([7, 2, 1])\n"
     ]
    }
   ],
   "source": [
    "for i, data in enumerate(test_loader):\n",
    "    if i>0: break\n",
    "    print(data[0].size())\n",
    "    print(data[1].size())\n",
    "    print(data[0][:3])\n",
    "    print(data[1][:3])"
   ]
  },
  {
   "cell_type": "code",
   "execution_count": 82,
   "metadata": {},
   "outputs": [],
   "source": [
    "def get_MLP(n_hiddens, activation=nn.ReLU(), dropout=0.1):\n",
    "    def get_a_layer(n_in, n_out, activation, dropout):\n",
    "        seq = [nn.Dropout(dropout), nn.Linear(n_in, n_out),\n",
    "                activation]\n",
    "        return seq\n",
    "    layers = [get_a_layer(n_in, n_out, activation, dropout) for \n",
    "              n_in, n_out in zip(n_hiddens, n_hiddens[1:])]\n",
    "    layers = [ x for xs in layers for x in xs ] # flatten\n",
    "    return nn.Sequential(*layers)"
   ]
  },
  {
   "cell_type": "code",
   "execution_count": 128,
   "metadata": {},
   "outputs": [],
   "source": [
    "class Net(nn.Module):\n",
    "    def __init__(self, model=None, loss=None, \n",
    "                 optimizer=None):\n",
    "        super(Net, self).__init__()\n",
    "        self.model = model\n",
    "        self.loss = loss\n",
    "        self.optimizer = optimizer\n",
    "    \n",
    "    def run_batch(self, i_batch, data):\n",
    "        self.optimizer.zero_grad()\n",
    "        data_in, tgt = data\n",
    "        data_in = data_in.to(device)\n",
    "        tgt = tgt.to(device)\n",
    "        out = self.model(data_in)\n",
    "        loss = self.loss(out, tgt)\n",
    "        loss.backward()\n",
    "        self.optimizer.step()\n",
    "        return loss.detach().cpu().item()\n",
    "    \n",
    "    def run_train(self, n_epoch, data):\n",
    "        self.model.train()\n",
    "        for i_epoch in range(n_epoch):\n",
    "            loss = 0\n",
    "            n_batch = len(data)\n",
    "            for i_batch, data_batch in enumerate(data):\n",
    "                loss_temp = self.run_batch(i_batch, data_batch)\n",
    "                loss += loss_temp\n",
    "                #print(i_batch, loss_temp)\n",
    "            loss /= 1.0*n_batch\n",
    "            print('epoch', i_epoch, 'loss', loss)\n",
    "            \n",
    "    def run_eval(self, data):\n",
    "        self.model.eval()\n",
    "        loss = 0\n",
    "        for i_batch, data_batch in enumerate(data):\n",
    "            data_in, tgt = data_batch\n",
    "            out = self.model(data_in)\n",
    "            loss += self.loss(out, tgt).detach().cpu()\n",
    "        loss /= 1.0*i_batch\n",
    "        return out, loss"
   ]
  },
  {
   "cell_type": "code",
   "execution_count": 129,
   "metadata": {},
   "outputs": [],
   "source": [
    "class Autoencoder(Net):\n",
    "    def __init__(self, model=None, loss=None, \n",
    "                 optimizer=None):\n",
    "        super(Autoencoder, self).__init__(model, loss, optimizer)\n",
    "    \n",
    "    def run_batch(self, i_batch, data):\n",
    "        self.optimizer.zero_grad()\n",
    "        data_in, _ = data\n",
    "        data_in = data_in.to(device)\n",
    "        out = self.model(data_in)\n",
    "        loss = self.loss(out, data_in)\n",
    "        loss.backward()\n",
    "        self.optimizer.step()\n",
    "        return loss.detach().cpu().item()"
   ]
  },
  {
   "cell_type": "markdown",
   "metadata": {},
   "source": [
    "## TEST"
   ]
  },
  {
   "cell_type": "code",
   "execution_count": 28,
   "metadata": {},
   "outputs": [],
   "source": [
    "mlp = get_MLP([100, 200, 50])"
   ]
  },
  {
   "cell_type": "code",
   "execution_count": 29,
   "metadata": {},
   "outputs": [
    {
     "data": {
      "text/plain": [
       "Sequential(\n",
       "  (0): Dropout(p=0.1, inplace=False)\n",
       "  (1): Linear(in_features=100, out_features=200, bias=True)\n",
       "  (2): ReLU()\n",
       "  (3): Dropout(p=0.1, inplace=False)\n",
       "  (4): Linear(in_features=200, out_features=50, bias=True)\n",
       "  (5): ReLU()\n",
       ")"
      ]
     },
     "execution_count": 29,
     "metadata": {},
     "output_type": "execute_result"
    }
   ],
   "source": [
    "mlp"
   ]
  },
  {
   "cell_type": "markdown",
   "metadata": {},
   "source": [
    "### Classifier example"
   ]
  },
  {
   "cell_type": "code",
   "execution_count": null,
   "metadata": {},
   "outputs": [],
   "source": [
    "dim_mnist = 784\n",
    "\n",
    "encoder = get_MLP([784, 300, 100, 10])\n",
    "#decoder = get_MLP([100, 300, 784])\n",
    "#ae_model = nn.Sequential(encoder, decoder)\n",
    "encoder = encoder.to(device)\n",
    "\n",
    "loss = nn.CrossEntropyLoss()\n",
    "optimizer = optim.Adam(encoder.parameters())\n",
    "classifier = Net(model=encoder, \n",
    "                loss=loss, optimizer=optimizer)\n",
    "classifier.run_train(20, train_loader)"
   ]
  },
  {
   "cell_type": "markdown",
   "metadata": {},
   "source": [
    "### Autoencoder example"
   ]
  },
  {
   "cell_type": "code",
   "execution_count": 149,
   "metadata": {},
   "outputs": [
    {
     "name": "stdout",
     "output_type": "stream",
     "text": [
      "epoch 0 loss 0.2322752343143447\n",
      "epoch 1 loss 0.22990058551905518\n",
      "epoch 2 loss 0.2283804662904497\n",
      "epoch 3 loss 0.22732309037345952\n",
      "epoch 4 loss 0.22628441263558502\n",
      "epoch 5 loss 0.22542902258998257\n",
      "epoch 6 loss 0.22490213028455186\n",
      "epoch 7 loss 0.22449463138640938\n",
      "epoch 8 loss 0.22415425236952508\n",
      "epoch 9 loss 0.22393219248723176\n",
      "epoch 10 loss 0.22373630396895489\n",
      "epoch 11 loss 0.22358890913300594\n",
      "epoch 12 loss 0.22351123051623167\n",
      "epoch 13 loss 0.22343937332852412\n",
      "epoch 14 loss 0.2233239821458267\n",
      "epoch 15 loss 0.22321504506014161\n",
      "epoch 16 loss 0.2231390248920958\n",
      "epoch 17 loss 0.2230879717459113\n",
      "epoch 18 loss 0.22299345658492234\n",
      "epoch 19 loss 0.2229018664713633\n",
      "epoch 20 loss 0.22285204052419985\n",
      "epoch 21 loss 0.22276294913332342\n",
      "epoch 22 loss 0.22274049851348846\n",
      "epoch 23 loss 0.2227040601231284\n",
      "epoch 24 loss 0.22265091146958077\n",
      "epoch 25 loss 0.22261153767674657\n",
      "epoch 26 loss 0.22257847200005743\n",
      "epoch 27 loss 0.22251498105667405\n",
      "epoch 28 loss 0.2224659534581637\n",
      "epoch 29 loss 0.22244154043116812\n",
      "epoch 30 loss 0.22241268205945774\n",
      "epoch 31 loss 0.22238479036900957\n",
      "epoch 32 loss 0.22235202612513202\n",
      "epoch 33 loss 0.2223038804733147\n",
      "epoch 34 loss 0.22224113319889974\n",
      "epoch 35 loss 0.22216740869364496\n",
      "epoch 36 loss 0.22212755389637867\n",
      "epoch 37 loss 0.22210995991856364\n",
      "epoch 38 loss 0.2220667532439959\n",
      "epoch 39 loss 0.22206526211762834\n",
      "epoch 40 loss 0.22203753648673075\n",
      "epoch 41 loss 0.22204189835968663\n",
      "epoch 42 loss 0.22200984621452072\n",
      "epoch 43 loss 0.22198548597299447\n",
      "epoch 44 loss 0.22196655354257358\n",
      "epoch 45 loss 0.2219532753451396\n",
      "epoch 46 loss 0.22193251651222423\n",
      "epoch 47 loss 0.22193192084461955\n",
      "epoch 48 loss 0.2219083509960417\n",
      "epoch 49 loss 0.22188037974854646\n",
      "epoch 50 loss 0.22184101883637702\n",
      "epoch 51 loss 0.22175434029708474\n",
      "epoch 52 loss 0.22172799693830944\n",
      "epoch 53 loss 0.22172945611557718\n",
      "epoch 54 loss 0.2217189629199141\n",
      "epoch 55 loss 0.22168401843410426\n",
      "epoch 56 loss 0.22165532245979472\n",
      "epoch 57 loss 0.22165896882445124\n",
      "epoch 58 loss 0.2216473116965617\n",
      "epoch 59 loss 0.22163993435896048\n",
      "epoch 60 loss 0.22162527590990067\n",
      "epoch 61 loss 0.22162619649858797\n",
      "epoch 62 loss 0.2216219532035165\n",
      "epoch 63 loss 0.22159774828765352\n",
      "epoch 64 loss 0.22159051124827336\n",
      "epoch 65 loss 0.22158230487572944\n",
      "epoch 66 loss 0.2215883203987348\n",
      "epoch 67 loss 0.22158291380284195\n",
      "epoch 68 loss 0.22157641096135317\n",
      "epoch 69 loss 0.22152515955395619\n",
      "epoch 70 loss 0.22149198047690472\n",
      "epoch 71 loss 0.22150144296682486\n",
      "epoch 72 loss 0.22147910928322098\n",
      "epoch 73 loss 0.2214841571147159\n",
      "epoch 74 loss 0.2214553928223707\n",
      "epoch 75 loss 0.2214650361467216\n",
      "epoch 76 loss 0.22145230247307632\n",
      "epoch 77 loss 0.22144139482308242\n",
      "epoch 78 loss 0.22143684403371003\n",
      "epoch 79 loss 0.22142958817845684\n",
      "epoch 80 loss 0.22139550568693775\n",
      "epoch 81 loss 0.22141932077327017\n",
      "epoch 82 loss 0.22138192668809728\n",
      "epoch 83 loss 0.22140092756283486\n",
      "epoch 84 loss 0.22136385536799996\n",
      "epoch 85 loss 0.22136006365388128\n",
      "epoch 86 loss 0.22133921276209717\n",
      "epoch 87 loss 0.22136531505039184\n",
      "epoch 88 loss 0.22134114145222356\n",
      "epoch 89 loss 0.2213094254671517\n",
      "epoch 90 loss 0.22131135794570891\n",
      "epoch 91 loss 0.22129675493401996\n",
      "epoch 92 loss 0.22130600312503718\n",
      "epoch 93 loss 0.22129197140871468\n",
      "epoch 94 loss 0.22126568033028457\n",
      "epoch 95 loss 0.221296549853632\n",
      "epoch 96 loss 0.22127937411857865\n",
      "epoch 97 loss 0.22125553996381114\n",
      "epoch 98 loss 0.2212419922826654\n",
      "epoch 99 loss 0.22124920962220532\n"
     ]
    }
   ],
   "source": [
    "dim_mnist = 784\n",
    "#dims = [784, 300, 300]\n",
    "dims = [784, 128, 64, 32]\n",
    "encoder = get_MLP(dims)\n",
    "decoder = get_MLP(list(reversed(dims)))\n",
    "ae_model = nn.Sequential(encoder, decoder)\n",
    "ae_model = ae_model.to(device)\n",
    "\n",
    "loss = nn.MSELoss()\n",
    "optimizer = optim.Adam(ae_model.parameters())\n",
    "ae = Autoencoder(model=ae_model, \n",
    "                loss=loss, optimizer=optimizer)\n",
    "ae.run_train(100, train_loader)"
   ]
  },
  {
   "cell_type": "code",
   "execution_count": 150,
   "metadata": {},
   "outputs": [
    {
     "name": "stdout",
     "output_type": "stream",
     "text": [
      "6\n"
     ]
    },
    {
     "data": {
      "image/png": "[encoded data removed]",
      "text/plain": [
       "<Figure size 432x288 with 2 Axes>"
      ]
     },
     "metadata": {
      "needs_background": "light"
     },
     "output_type": "display_data"
    }
   ],
   "source": [
    "import matplotlib.pyplot as plt\n",
    "\n",
    "for i_batch, data_batch in enumerate(test_loader):\n",
    "    if i_batch > 0: \n",
    "        break\n",
    "    with torch.no_grad():\n",
    "        data_in, tgt = data_batch\n",
    "        ii = 50\n",
    "        #data_in0 = data_in[:1]\n",
    "        data_in0 = data_in[ii:ii+1]\n",
    "        data_in0 = data_in0.to(device)\n",
    "        data_in1 = data_in0.cpu().squeeze(0).view(28,28).numpy()\n",
    "        tgt0 = tgt[ii]\n",
    "        out = ae.model(data_in0)\n",
    "        out = out.cpu()\n",
    "        out = out.squeeze(0)\n",
    "        out = out.view(28,28).numpy()\n",
    "        plt.subplot(1,2,1)\n",
    "        plt.imshow(data_in1, cmap='gray')\n",
    "        plt.subplot(1,2,2)\n",
    "        plt.imshow(out, cmap='gray')\n",
    "        print(tgt0.item())"
   ]
  },
  {
   "cell_type": "code",
   "execution_count": null,
   "metadata": {},
   "outputs": [],
   "source": []
  }
 ],
 "metadata": {
  "kernelspec": {
   "display_name": "Python 3",
   "language": "python",
   "name": "python3"
  },
  "language_info": {
   "codemirror_mode": {
    "name": "ipython",
    "version": 3
   },
   "file_extension": ".py",
   "mimetype": "text/x-python",
   "name": "python",
   "nbconvert_exporter": "python",
   "pygments_lexer": "ipython3",
   "version": "3.6.9"
  }
 },
 "nbformat": 4,
 "nbformat_minor": 4
}
