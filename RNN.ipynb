{
 "cells": [
  {
   "cell_type": "markdown",
   "metadata": {},
   "source": [
    "# RNN in Pytorch\n",
    "## example : Yelp classifier"
   ]
  },
  {
   "cell_type": "code",
   "execution_count": 1,
   "metadata": {},
   "outputs": [],
   "source": [
    "import os\n",
    "os.environ[\"CUDA_VISIBLE_DEVICES\"]=\"0,1\""
   ]
  },
  {
   "cell_type": "code",
   "execution_count": 25,
   "metadata": {},
   "outputs": [],
   "source": [
    "import os\n",
    "import re\n",
    "import string\n",
    "\n",
    "import numpy as np\n",
    "import pandas as pd\n",
    "import torch\n",
    "import torch.nn as nn\n",
    "import torch.nn.functional as F\n",
    "import torch.optim as optim\n",
    "from torch.utils.data import Dataset, DataLoader\n",
    "from torchtext import data as ttdata\n",
    "from torchtext.data import Dataset, Example, Field\n",
    "from torchtext.data import Iterator, BucketIterator\n",
    "import spacy\n",
    "\n",
    "from TextDataloader import TextData"
   ]
  },
  {
   "cell_type": "code",
   "execution_count": 3,
   "metadata": {},
   "outputs": [],
   "source": [
    "if torch.cuda.device_count()>1:\n",
    "    device = torch.device(\"cuda\" if torch.cuda.is_available() else \"cpu\")\n",
    "elif torch.cuda.device_count()>0:\n",
    "    device = torch.device(\"cuda:0\" if torch.cuda.is_available() else \"cpu\")"
   ]
  },
  {
   "cell_type": "markdown",
   "metadata": {},
   "source": [
    "## Dataload\n",
    "* reference : Natural language processing with PYTORCH\n",
    "1. load data file into a dataframe\n",
    "2. change text into right form using tokenizer or corpus\n",
    "3. change modified text into vectors"
   ]
  },
  {
   "cell_type": "code",
   "execution_count": 35,
   "metadata": {},
   "outputs": [
    {
     "data": {
      "text/plain": [
       "LSTM(10, 20, num_layers=4, batch_first=True, dropout=0.1)"
      ]
     },
     "execution_count": 35,
     "metadata": {},
     "output_type": "execute_result"
    }
   ],
   "source": [
    "lstm = nn.LSTM(input_size=size_in, \n",
    "        hidden_size=size_hidden, \n",
    "        dropout=dropout,\n",
    "        num_layers= n_layers,\n",
    "        batch_first=batch_first,\n",
    "        bidirectional=bidirectional)\n",
    "\n",
    "#########################3\n",
    "\n",
    "n_hiddens = [size_hidden, ...]\n",
    "mlp = get_MLP\n",
    "get_RNN(10, 20, 4)"
   ]
  },
  {
   "cell_type": "code",
   "execution_count": 16,
   "metadata": {},
   "outputs": [],
   "source": [
    "class RNN_classifier(Net):\n",
    "    def __init__(self, model=None, loss=None, \n",
    "                 optimizer=None):\n",
    "        pass\n",
    "    \n",
    "    def run_batch(self, i_batch, data):\n",
    "        pass\n",
    "    \n",
    "    def run_train(self, n_epoch, data):\n",
    "        pass\n",
    "    \n",
    "    def run_eval(self, data):\n",
    "        pass\n",
    "    \n",
    "    \n",
    "    \n",
    "    "
   ]
  },
  {
   "cell_type": "code",
   "execution_count": 16,
   "metadata": {},
   "outputs": [],
   "source": [
    "\"\"\"\n",
    "data shape\n",
    "rating, review, split\n",
    "negative, \"sentence\", train\n",
    "positive, \"sentence\", train\n",
    "\"\"\"\n",
    "f1_s = \"/home/bwlee/data/yelp_review_polarity_csv/reviews_with_splits_full.csv\"\n",
    "\n",
    "#df1 = pd.read_csv(f1_s, header=0)\n",
    "#df1 = pd.read_csv(f1_s, header=0, nrows=1000)\n",
    "df = pd.read_csv(f1_s, header=0, nrows=10000, skiprows=lambda x: x%5>0)\n",
    "label0 = []\n",
    "for i in df.index: # change this for getting info based on previous day market move\n",
    "    if df['rating'].iloc[i] == 'positive':\n",
    "        label0.append(1)\n",
    "    else:\n",
    "        label0.append(0)\n",
    "df['rating'] = label0"
   ]
  },
  {
   "cell_type": "code",
   "execution_count": 19,
   "metadata": {},
   "outputs": [],
   "source": [
    "train_df = df[df['split']=='train'][['rating', 'review']]\n",
    "val_df = df[df['split']=='val'][['rating', 'review']]\n",
    "test_df = df[df['split']=='test'][['rating', 'review']]\n",
    "train_df = train_df.reset_index(drop=True)\n",
    "test_df = test_df.reset_index(drop=True)\n",
    "val_df = val_df.reset_index(drop=True)"
   ]
  },
  {
   "cell_type": "code",
   "execution_count": 20,
   "metadata": {},
   "outputs": [],
   "source": [
    "nlp = spacy.load(\"en_core_web_sm\")"
   ]
  },
  {
   "cell_type": "code",
   "execution_count": null,
   "metadata": {},
   "outputs": [],
   "source": [
    "# vocabulary class\n",
    "#voca1 = Vocab(df1, glove1)\n",
    "#dataset1 = ReviewDataset(df1, voca1)"
   ]
  },
  {
   "cell_type": "code",
   "execution_count": 21,
   "metadata": {},
   "outputs": [],
   "source": [
    "TEXT = data.Field(sequential=True, use_vocab=True,\n",
    "                 tokenize='spacy', lower=True,\n",
    "                 batch_first=True, fix_length=100,\n",
    "                 init_token='<SOS>', eos_token='<EOS>'\n",
    "                 )\n",
    "\n",
    "LABEL = data.Field(sequential=False, use_vocab=False,\n",
    "                  batch_first=False, is_target=True)"
   ]
  },
  {
   "cell_type": "code",
   "execution_count": 22,
   "metadata": {},
   "outputs": [],
   "source": [
    "fields0 = (('rating', LABEL), ('review', TEXT))\n",
    "train_data = [ Example.fromlist(\n",
    "    train_df.iloc[ii].values.tolist(),\n",
    "                              fields0)\n",
    "              for ii in range(len(train_df)) ]\n",
    "train_data = Dataset(train_data, fields=fields0)\n",
    "TEXT.build_vocab(train_data, min_freq=10, max_size=10000)"
   ]
  },
  {
   "cell_type": "code",
   "execution_count": 23,
   "metadata": {},
   "outputs": [],
   "source": [
    "iter = Iterator(train_data, batch_size=10)"
   ]
  },
  {
   "cell_type": "code",
   "execution_count": null,
   "metadata": {},
   "outputs": [],
   "source": []
  }
 ],
 "metadata": {
  "kernelspec": {
   "display_name": "Python 3",
   "language": "python",
   "name": "python3"
  },
  "language_info": {
   "codemirror_mode": {
    "name": "ipython",
    "version": 3
   },
   "file_extension": ".py",
   "mimetype": "text/x-python",
   "name": "python",
   "nbconvert_exporter": "python",
   "pygments_lexer": "ipython3",
   "version": "3.6.9"
  }
 },
 "nbformat": 4,
 "nbformat_minor": 4
}
