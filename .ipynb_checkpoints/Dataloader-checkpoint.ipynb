{
 "cells": [
  {
   "cell_type": "markdown",
   "metadata": {},
   "source": [
    "## Dataloader\n",
    "* reference : Natural language processing with PYTORCH\n",
    "1. load data file into a dataframe\n",
    "2. change text into right form using tokenizer or corpus\n",
    "3. change modified text into vectors"
   ]
  },
  {
   "cell_type": "code",
   "execution_count": 1,
   "metadata": {},
   "outputs": [],
   "source": [
    "import os\n",
    "os.environ[\"CUDA_VISIBLE_DEVICES\"]=\"0,1\""
   ]
  },
  {
   "cell_type": "code",
   "execution_count": 9,
   "metadata": {},
   "outputs": [],
   "source": [
    "import os, re, string\n",
    "\n",
    "import numpy as np\n",
    "import pandas as pd\n",
    "import torch\n",
    "import torch.nn as nn\n",
    "import torch.nn.functional as F\n",
    "import torch.optim as optim\n",
    "from torch.utils.data import Dataset, DataLoader\n",
    "from tqdm import notebook"
   ]
  },
  {
   "cell_type": "code",
   "execution_count": 6,
   "metadata": {},
   "outputs": [],
   "source": [
    "if torch.cuda.device_count()>1:\n",
    "    device = torch.device(\"cuda\" if torch.cuda.is_available() else \"cpu\")\n",
    "elif torch.cuda.device_count()>0:\n",
    "    device = torch.device(\"cuda:0\" if torch.cuda.is_available() else \"cpu\")"
   ]
  },
  {
   "cell_type": "code",
   "execution_count": 15,
   "metadata": {},
   "outputs": [],
   "source": [
    "\"\"\"\n",
    "data shape\n",
    "rating, review, split\n",
    "negative, \"sentence\", train\n",
    "positive, \"sentence\", train\n",
    "\"\"\"\n",
    "f1_s = \"/home/bwlee/data/yelp_review_polarity_csv/reviews_with_splits_full.csv\"\n",
    "\n",
    "#df1 = pd.read_csv(f1_s, header=0)\n",
    "df1 = pd.read_csv(f1_s, header=0, nrows=1000)\n",
    "#df1 = pd.read_csv(f1_s, header=0, skiprows=lambda x: x%5>0)\n",
    "label0 = []\n",
    "for i in df1.index: # change this for getting info based on previous day market move\n",
    "    if df1['rating'].iloc[i] == 'positive':\n",
    "        label0.append(1)\n",
    "    else:\n",
    "        label0.append(0)\n",
    "df1['rating'] = label0"
   ]
  },
  {
   "cell_type": "code",
   "execution_count": 16,
   "metadata": {},
   "outputs": [
    {
     "data": {
      "text/html": [
       "<div>\n",
       "<style scoped>\n",
       "    .dataframe tbody tr th:only-of-type {\n",
       "        vertical-align: middle;\n",
       "    }\n",
       "\n",
       "    .dataframe tbody tr th {\n",
       "        vertical-align: top;\n",
       "    }\n",
       "\n",
       "    .dataframe thead th {\n",
       "        text-align: right;\n",
       "    }\n",
       "</style>\n",
       "<table border=\"1\" class=\"dataframe\">\n",
       "  <thead>\n",
       "    <tr style=\"text-align: right;\">\n",
       "      <th></th>\n",
       "      <th>rating</th>\n",
       "      <th>review</th>\n",
       "      <th>split</th>\n",
       "    </tr>\n",
       "  </thead>\n",
       "  <tbody>\n",
       "    <tr>\n",
       "      <th>0</th>\n",
       "      <td>0</td>\n",
       "      <td>the entrance was the impressive thing about th...</td>\n",
       "      <td>train</td>\n",
       "    </tr>\n",
       "    <tr>\n",
       "      <th>1</th>\n",
       "      <td>0</td>\n",
       "      <td>i m a mclover , and i had no problem nwith the...</td>\n",
       "      <td>train</td>\n",
       "    </tr>\n",
       "    <tr>\n",
       "      <th>2</th>\n",
       "      <td>0</td>\n",
       "      <td>less than good here , not terrible , but i see...</td>\n",
       "      <td>train</td>\n",
       "    </tr>\n",
       "    <tr>\n",
       "      <th>3</th>\n",
       "      <td>0</td>\n",
       "      <td>i don t know if i can ever bring myself to go ...</td>\n",
       "      <td>train</td>\n",
       "    </tr>\n",
       "    <tr>\n",
       "      <th>4</th>\n",
       "      <td>0</td>\n",
       "      <td>food was ok good but the service was terrible ...</td>\n",
       "      <td>train</td>\n",
       "    </tr>\n",
       "    <tr>\n",
       "      <th>...</th>\n",
       "      <td>...</td>\n",
       "      <td>...</td>\n",
       "      <td>...</td>\n",
       "    </tr>\n",
       "    <tr>\n",
       "      <th>995</th>\n",
       "      <td>0</td>\n",
       "      <td>i ve given this place so many chances and it a...</td>\n",
       "      <td>train</td>\n",
       "    </tr>\n",
       "    <tr>\n",
       "      <th>996</th>\n",
       "      <td>0</td>\n",
       "      <td>ordered from the ayce menu and some of the sal...</td>\n",
       "      <td>train</td>\n",
       "    </tr>\n",
       "    <tr>\n",
       "      <th>997</th>\n",
       "      <td>0</td>\n",
       "      <td>generally , i love sonic . it is by far my fav...</td>\n",
       "      <td>train</td>\n",
       "    </tr>\n",
       "    <tr>\n",
       "      <th>998</th>\n",
       "      <td>0</td>\n",
       "      <td>how does this location stay open ? lines are n...</td>\n",
       "      <td>train</td>\n",
       "    </tr>\n",
       "    <tr>\n",
       "      <th>999</th>\n",
       "      <td>0</td>\n",
       "      <td>i am not one to visit chain restaurants , but ...</td>\n",
       "      <td>train</td>\n",
       "    </tr>\n",
       "  </tbody>\n",
       "</table>\n",
       "<p>1000 rows × 3 columns</p>\n",
       "</div>"
      ],
      "text/plain": [
       "     rating                                             review  split\n",
       "0         0  the entrance was the impressive thing about th...  train\n",
       "1         0  i m a mclover , and i had no problem nwith the...  train\n",
       "2         0  less than good here , not terrible , but i see...  train\n",
       "3         0  i don t know if i can ever bring myself to go ...  train\n",
       "4         0  food was ok good but the service was terrible ...  train\n",
       "..      ...                                                ...    ...\n",
       "995       0  i ve given this place so many chances and it a...  train\n",
       "996       0  ordered from the ayce menu and some of the sal...  train\n",
       "997       0  generally , i love sonic . it is by far my fav...  train\n",
       "998       0  how does this location stay open ? lines are n...  train\n",
       "999       0  i am not one to visit chain restaurants , but ...  train\n",
       "\n",
       "[1000 rows x 3 columns]"
      ]
     },
     "execution_count": 16,
     "metadata": {},
     "output_type": "execute_result"
    }
   ],
   "source": [
    "df1"
   ]
  },
  {
   "cell_type": "code",
   "execution_count": 24,
   "metadata": {},
   "outputs": [],
   "source": [
    "\"\"\"\n",
    "data shape\n",
    "review\n",
    "\"sentence\"\n",
    "# split and rating are separated by file name\n",
    "\"\"\"\n",
    "f1_s = \"/home/bwlee/work/codes/controllable/data/amazon/sentiment.train.0\"\n",
    "f2_s = \"/home/bwlee/work/codes/controllable/data/amazon/sentiment.train.1\"\n",
    "df1 = pd.read_csv(f1_s, sep='\\n', header=None, names=['review'])\n",
    "df1['rating'] = 0\n",
    "df1['split'] = 'train'"
   ]
  },
  {
   "cell_type": "code",
   "execution_count": 25,
   "metadata": {},
   "outputs": [
    {
     "data": {
      "text/html": [
       "<div>\n",
       "<style scoped>\n",
       "    .dataframe tbody tr th:only-of-type {\n",
       "        vertical-align: middle;\n",
       "    }\n",
       "\n",
       "    .dataframe tbody tr th {\n",
       "        vertical-align: top;\n",
       "    }\n",
       "\n",
       "    .dataframe thead th {\n",
       "        text-align: right;\n",
       "    }\n",
       "</style>\n",
       "<table border=\"1\" class=\"dataframe\">\n",
       "  <thead>\n",
       "    <tr style=\"text-align: right;\">\n",
       "      <th></th>\n",
       "      <th>review</th>\n",
       "      <th>rating</th>\n",
       "      <th>split</th>\n",
       "    </tr>\n",
       "  </thead>\n",
       "  <tbody>\n",
       "    <tr>\n",
       "      <th>0</th>\n",
       "      <td>especially on moderate where the attacks are c...</td>\n",
       "      <td>0</td>\n",
       "      <td>train</td>\n",
       "    </tr>\n",
       "    <tr>\n",
       "      <th>1</th>\n",
       "      <td>i put this on my hair and flat ironed it and m...</td>\n",
       "      <td>0</td>\n",
       "      <td>train</td>\n",
       "    </tr>\n",
       "    <tr>\n",
       "      <th>2</th>\n",
       "      <td>since their price is three times that they are...</td>\n",
       "      <td>0</td>\n",
       "      <td>train</td>\n",
       "    </tr>\n",
       "    <tr>\n",
       "      <th>3</th>\n",
       "      <td>just had to give it the personal touch .</td>\n",
       "      <td>0</td>\n",
       "      <td>train</td>\n",
       "    </tr>\n",
       "    <tr>\n",
       "      <th>4</th>\n",
       "      <td>i cannot find patterns to solve the problem .</td>\n",
       "      <td>0</td>\n",
       "      <td>train</td>\n",
       "    </tr>\n",
       "    <tr>\n",
       "      <th>...</th>\n",
       "      <td>...</td>\n",
       "      <td>...</td>\n",
       "      <td>...</td>\n",
       "    </tr>\n",
       "    <tr>\n",
       "      <th>277764</th>\n",
       "      <td>i have a full sized houge grip on my glock num...</td>\n",
       "      <td>0</td>\n",
       "      <td>train</td>\n",
       "    </tr>\n",
       "    <tr>\n",
       "      <th>277765</th>\n",
       "      <td>there is nothing about this product which warr...</td>\n",
       "      <td>0</td>\n",
       "      <td>train</td>\n",
       "    </tr>\n",
       "    <tr>\n",
       "      <th>277766</th>\n",
       "      <td>the only thing it controlled was my hot flashe...</td>\n",
       "      <td>0</td>\n",
       "      <td>train</td>\n",
       "    </tr>\n",
       "    <tr>\n",
       "      <th>277767</th>\n",
       "      <td>there s so much personal taste involved when a...</td>\n",
       "      <td>0</td>\n",
       "      <td>train</td>\n",
       "    </tr>\n",
       "    <tr>\n",
       "      <th>277768</th>\n",
       "      <td>i think this is one product you can skip .</td>\n",
       "      <td>0</td>\n",
       "      <td>train</td>\n",
       "    </tr>\n",
       "  </tbody>\n",
       "</table>\n",
       "<p>277769 rows × 3 columns</p>\n",
       "</div>"
      ],
      "text/plain": [
       "                                                   review  rating  split\n",
       "0       especially on moderate where the attacks are c...       0  train\n",
       "1       i put this on my hair and flat ironed it and m...       0  train\n",
       "2       since their price is three times that they are...       0  train\n",
       "3               just had to give it the personal touch .        0  train\n",
       "4          i cannot find patterns to solve the problem .        0  train\n",
       "...                                                   ...     ...    ...\n",
       "277764  i have a full sized houge grip on my glock num...       0  train\n",
       "277765  there is nothing about this product which warr...       0  train\n",
       "277766  the only thing it controlled was my hot flashe...       0  train\n",
       "277767  there s so much personal taste involved when a...       0  train\n",
       "277768        i think this is one product you can skip .        0  train\n",
       "\n",
       "[277769 rows x 3 columns]"
      ]
     },
     "execution_count": 25,
     "metadata": {},
     "output_type": "execute_result"
    }
   ],
   "source": [
    "df1"
   ]
  },
  {
   "cell_type": "markdown",
   "metadata": {},
   "source": [
    "## dataset test"
   ]
  },
  {
   "cell_type": "code",
   "execution_count": 28,
   "metadata": {},
   "outputs": [],
   "source": [
    "class TestDataset(Dataset):\n",
    "    def __init__(self):\n",
    "        self.xs = range(1, 100)\n",
    "        self.ys = [ x*10 for x in self.xs ]\n",
    "        \n",
    "    def __len__(self):\n",
    "        return len(self.xs)\n",
    "    \n",
    "    def __getitem__(self, ii):\n",
    "        x = self.xs[ii]\n",
    "        y = self.ys[ii]\n",
    "        return x, y"
   ]
  },
  {
   "cell_type": "markdown",
   "metadata": {},
   "source": [
    "## Dataset and DataLoader\n",
    "* Dataset gets data\n",
    "* map-style, iterable style\n",
    "    * map-style(Dataset) :  needs __getitem__(), __len__()\n",
    "    * iterable style(IterableDataset) : needs __iter__()\n",
    "* DataLoader transform Dataset into batch and tensors\n",
    "```python\n",
    "torch.utils.data.Dataset\n",
    "torch.utils.data.TensorDataset(*tensors)\n",
    "# *tensors (Tensor) – tensors that have the same size of the first dimension.\n",
    "```\n",
    "* TensorDataset can be used for multiple data with a condition for dimension."
   ]
  },
  {
   "cell_type": "code",
   "execution_count": 29,
   "metadata": {},
   "outputs": [],
   "source": [
    "testdataset = TestDataset()"
   ]
  },
  {
   "cell_type": "code",
   "execution_count": 30,
   "metadata": {},
   "outputs": [],
   "source": [
    "dataloader = DataLoader(testdataset, batch_size=10)"
   ]
  },
  {
   "cell_type": "code",
   "execution_count": 31,
   "metadata": {},
   "outputs": [
    {
     "name": "stdout",
     "output_type": "stream",
     "text": [
      "tensor([ 1,  2,  3,  4,  5,  6,  7,  8,  9, 10]) tensor([ 10,  20,  30,  40,  50,  60,  70,  80,  90, 100])\n",
      "tensor([11, 12, 13, 14, 15, 16, 17, 18, 19, 20]) tensor([110, 120, 130, 140, 150, 160, 170, 180, 190, 200])\n",
      "tensor([21, 22, 23, 24, 25, 26, 27, 28, 29, 30]) tensor([210, 220, 230, 240, 250, 260, 270, 280, 290, 300])\n",
      "tensor([31, 32, 33, 34, 35, 36, 37, 38, 39, 40]) tensor([310, 320, 330, 340, 350, 360, 370, 380, 390, 400])\n",
      "tensor([41, 42, 43, 44, 45, 46, 47, 48, 49, 50]) tensor([410, 420, 430, 440, 450, 460, 470, 480, 490, 500])\n",
      "tensor([51, 52, 53, 54, 55, 56, 57, 58, 59, 60]) tensor([510, 520, 530, 540, 550, 560, 570, 580, 590, 600])\n",
      "tensor([61, 62, 63, 64, 65, 66, 67, 68, 69, 70]) tensor([610, 620, 630, 640, 650, 660, 670, 680, 690, 700])\n",
      "tensor([71, 72, 73, 74, 75, 76, 77, 78, 79, 80]) tensor([710, 720, 730, 740, 750, 760, 770, 780, 790, 800])\n",
      "tensor([81, 82, 83, 84, 85, 86, 87, 88, 89, 90]) tensor([810, 820, 830, 840, 850, 860, 870, 880, 890, 900])\n",
      "tensor([91, 92, 93, 94, 95, 96, 97, 98, 99]) tensor([910, 920, 930, 940, 950, 960, 970, 980, 990])\n"
     ]
    }
   ],
   "source": [
    "for x, y in dataloader:\n",
    "    print(x, y)"
   ]
  },
  {
   "cell_type": "markdown",
   "metadata": {},
   "source": [
    "### DataLoader\n",
    "* if it None, batch is not applied\n",
    "* defau;t batch_size is 1\n",
    "* batch_sampler works for map-style datasets"
   ]
  },
  {
   "cell_type": "markdown",
   "metadata": {},
   "source": [
    "## torchtext : DataLoader, Iterator\n",
    "* There's another dataloader for text in torchtext\n",
    "* This has various open dataset\n",
    "* It is still cumbersome in reading from dataframe\n",
    "* In case, if you read directly from TSV, CSV, JSON, ...  \n",
    "You can use TabularDataset\n",
    "* torchtext.data.Dataset requires Example type of data\n",
    "    * You need to make Example for each data instance  \n",
    "      and give it as input    "
   ]
  },
  {
   "cell_type": "code",
   "execution_count": 38,
   "metadata": {},
   "outputs": [],
   "source": [
    "# prepare data\n",
    "from torchtext import data\n",
    "from torchtext.data import Dataset, Example\n",
    "from torchtext.data import Iterator, BucketIterator\n",
    "\n",
    "df = df1\n",
    "train_df = df[df['split']=='train'][['rating', 'review']]\n",
    "val_df = df[df['split']=='val'][['rating', 'review']]\n",
    "test_df = df[df['split']=='test'][['rating', 'review']]\n",
    "train_df = train_df.reset_index(drop=True)\n",
    "test_df = test_df.reset_index(drop=True)\n",
    "val_df = val_df.reset_index(drop=True)"
   ]
  },
  {
   "cell_type": "markdown",
   "metadata": {},
   "source": [
    "we can use several type of tokenizer.\n",
    "In here, we use spacy"
   ]
  },
  {
   "cell_type": "code",
   "execution_count": 33,
   "metadata": {},
   "outputs": [],
   "source": [
    "import spacy\n",
    "nlp = spacy.load(\"en_core_web_sm\")"
   ]
  },
  {
   "cell_type": "code",
   "execution_count": 60,
   "metadata": {},
   "outputs": [],
   "source": [
    "# If use_vocab is True, it should have vocabulary \n",
    "# when Dataloader is iterating\n",
    "# It can be generated by calling build_vocab\n",
    "TEXT = data.Field(sequential=True, use_vocab=True,\n",
    "                 tokenize='spacy', lower=True,\n",
    "                 batch_first=True, fix_length=100,\n",
    "                 init_token='<SOS>', eos_token='<EOS>'\n",
    "                 )\n",
    "\n",
    "LABEL = data.Field(sequential=False, use_vocab=False,\n",
    "                  batch_first=False, is_target=True)"
   ]
  },
  {
   "cell_type": "code",
   "execution_count": 61,
   "metadata": {},
   "outputs": [],
   "source": [
    "# make data frame small for experiment\n",
    "train_df0 = train_df[:1000]\n",
    "fields0 = (('rating', LABEL), ('review', TEXT))\n",
    "train_data = [ Example.fromlist(\n",
    "    train_df0.iloc[ii].values.tolist(),\n",
    "                              fields0)\n",
    "              for ii in range(len(train_df0)) ]\n",
    "train_data = Dataset(train_data, fields=fields0)"
   ]
  },
  {
   "cell_type": "markdown",
   "metadata": {},
   "source": [
    "If dataset is made, we can generate vocabulary.  \n",
    "If a vocabulary is established, dataloader vectorize  \n",
    "each sentence."
   ]
  },
  {
   "cell_type": "code",
   "execution_count": 62,
   "metadata": {},
   "outputs": [],
   "source": [
    "TEXT.build_vocab(train_data, min_freq=10, max_size=10000)"
   ]
  },
  {
   "cell_type": "code",
   "execution_count": 63,
   "metadata": {},
   "outputs": [],
   "source": [
    "iter1 = Iterator(train_data, batch_size=10)"
   ]
  },
  {
   "cell_type": "code",
   "execution_count": 64,
   "metadata": {},
   "outputs": [],
   "source": [
    "batch = next(iter(iter1))"
   ]
  },
  {
   "cell_type": "code",
   "execution_count": 47,
   "metadata": {},
   "outputs": [
    {
     "data": {
      "text/plain": [
       "tensor([0, 0, 0, 0, 0, 0, 0, 0, 0, 0])"
      ]
     },
     "execution_count": 47,
     "metadata": {},
     "output_type": "execute_result"
    }
   ],
   "source": [
    "batch.rating"
   ]
  },
  {
   "cell_type": "code",
   "execution_count": 65,
   "metadata": {},
   "outputs": [
    {
     "data": {
      "text/plain": [
       "tensor([[  2, 136, 118,   0,  26,   5,   0,  22,   8,  29,  20,  36,  80,   0,\n",
       "           4,   3,   1,   1,   1,   1,   1,   1,   1,   1,   1,   1,   1,   1,\n",
       "           1,   1,   1,   1,   1,   1,   1,   1,   1,   1,   1,   1,   1,   1,\n",
       "           1,   1,   1,   1,   1,   1,   1,   1,   1,   1,   1,   1,   1,   1,\n",
       "           1,   1,   1,   1,   1,   1,   1,   1,   1,   1,   1,   1,   1,   1,\n",
       "           1,   1,   1,   1,   1,   1,   1,   1,   1,   1,   1,   1,   1,   1,\n",
       "           1,   1,   1,   1,   1,   1,   1,   1,   1,   1,   1,   1,   1,   1,\n",
       "           1,   1],\n",
       "        [  2,  58,   0,  61,   7,   0,  41,  12,   0, 165, 140,   4,   0,   9,\n",
       "           6,  17,   0,  93,  20,   0,  26,  13, 140,   4,   3,   1,   1,   1,\n",
       "           1,   1,   1,   1,   1,   1,   1,   1,   1,   1,   1,   1,   1,   1,\n",
       "           1,   1,   1,   1,   1,   1,   1,   1,   1,   1,   1,   1,   1,   1,\n",
       "           1,   1,   1,   1,   1,   1,   1,   1,   1,   1,   1,   1,   1,   1,\n",
       "           1,   1,   1,   1,   1,   1,   1,   1,   1,   1,   1,   1,   1,   1,\n",
       "           1,   1,   1,   1,   1,   1,   1,   1,   1,   1,   1,   1,   1,   1,\n",
       "           1,   1]])"
      ]
     },
     "execution_count": 65,
     "metadata": {},
     "output_type": "execute_result"
    }
   ],
   "source": [
    "batch.review[:2]"
   ]
  },
  {
   "cell_type": "code",
   "execution_count": 55,
   "metadata": {},
   "outputs": [],
   "source": [
    "## check!!!! vocab is not working well"
   ]
  },
  {
   "cell_type": "code",
   "execution_count": 55,
   "metadata": {},
   "outputs": [],
   "source": [
    "vocab = TEXT.vocab"
   ]
  },
  {
   "cell_type": "code",
   "execution_count": 75,
   "metadata": {},
   "outputs": [
    {
     "data": {
      "text/plain": [
       "4"
      ]
     },
     "execution_count": 75,
     "metadata": {},
     "output_type": "execute_result"
    }
   ],
   "source": [
    "len(vocab)"
   ]
  },
  {
   "cell_type": "code",
   "execution_count": 74,
   "metadata": {},
   "outputs": [
    {
     "ename": "IndexError",
     "evalue": "list index out of range",
     "output_type": "error",
     "traceback": [
      "\u001b[0;31m---------------------------------------------------------------------------\u001b[0m",
      "\u001b[0;31mIndexError\u001b[0m                                Traceback (most recent call last)",
      "\u001b[0;32m<ipython-input-74-7c891598148b>\u001b[0m in \u001b[0;36m<module>\u001b[0;34m\u001b[0m\n\u001b[0;32m----> 1\u001b[0;31m \u001b[0mvocab\u001b[0m\u001b[0;34m.\u001b[0m\u001b[0mitos\u001b[0m\u001b[0;34m[\u001b[0m\u001b[0;36m58\u001b[0m\u001b[0;34m]\u001b[0m\u001b[0;34m\u001b[0m\u001b[0;34m\u001b[0m\u001b[0m\n\u001b[0m",
      "\u001b[0;31mIndexError\u001b[0m: list index out of range"
     ]
    }
   ],
   "source": [
    "vocab.itos[58]"
   ]
  },
  {
   "cell_type": "code",
   "execution_count": 70,
   "metadata": {},
   "outputs": [
    {
     "data": {
      "text/plain": [
       "0"
      ]
     },
     "execution_count": 70,
     "metadata": {},
     "output_type": "execute_result"
    }
   ],
   "source": [
    "vocab.stoi['i']"
   ]
  },
  {
   "cell_type": "code",
   "execution_count": null,
   "metadata": {},
   "outputs": [],
   "source": []
  }
 ],
 "metadata": {
  "kernelspec": {
   "display_name": "Python 3",
   "language": "python",
   "name": "python3"
  },
  "language_info": {
   "codemirror_mode": {
    "name": "ipython",
    "version": 3
   },
   "file_extension": ".py",
   "mimetype": "text/x-python",
   "name": "python",
   "nbconvert_exporter": "python",
   "pygments_lexer": "ipython3",
   "version": "3.6.9"
  }
 },
 "nbformat": 4,
 "nbformat_minor": 4
}
