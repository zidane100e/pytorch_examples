{
 "cells": [
  {
   "cell_type": "markdown",
   "metadata": {},
   "source": [
    "# PCA with Pytorch\n",
    "\n",
    "## 1. PCA with SVD\n",
    "* Pytorch provides SVD methods and we can apply PCA with GPU by using this.\n",
    "    * [svd](https://pytorch.org/docs/stable/generated/torch.svd.html)\n",
    "    * [svd_lowrank](https://pytorch.org/docs/master/generated/torch.svd_lowrank.html)\n",
    "    \n",
    "## 2. covariance for SVD\n",
    "* PCA get its linear relations between variables by using variance (covariance).  \n",
    "* It is known that PCA problem, which finds max variance coordinate,  \n",
    "  can be considered as an eigen-value problem.\n",
    "* We apply SVD to covariance matrix and obtain the result.  "
   ]
  },
  {
   "cell_type": "markdown",
   "metadata": {},
   "source": [
    "## 1. PCA with SVD"
   ]
  },
  {
   "cell_type": "markdown",
   "metadata": {},
   "source": [
    "## 2. covariance from data\n",
    "* You can find definitions of covariance from this\n",
    "    * https://en.wikipedia.org/wiki/Covariance\n",
    "    * https://datascienceschool.net/view-notebook/4cab41c0d9cd4eafaff8a45f590592c5/\n",
    "* covariane [from here](https://www.google.com/url?sa=i&url=https%3A%2F%2Fbyjus.com%2Fcovariance-formula%2F&psig=AOvVaw3DSk-kUfm1w7pKg2OkDuea&ust=1598791100410000&source=images&cd=vfe&ved=0CAIQjRxqFwoTCJCu8aO3wOsCFQAAAAAdAAAAABAD)  \n",
    "<img src=\"images/covariance.png\" width=\"150\"> \n",
    "* data is usually given as [batch * hidden]  \n",
    "    * batch corresponds to different X, Y observations\n",
    "    * hidden corresponds to different dimension values of an observation\n",
    "* PCA --> Cov_M * eigen_vec = eigen_val * eigen_vec\n",
    "    * covariance matrix cov_M = 1/(N-1) * (X-X_mean) * (X-X_mean)T  \n",
    "* cov_M = U * lambda * U^T\n",
    "    * where, lambda : eigen value, U^T : eigen vector\n",
    "* Any X = Sigma_i ( z_i * eigen_vec_i )"
   ]
  },
  {
   "cell_type": "code",
   "execution_count": 4,
   "metadata": {},
   "outputs": [],
   "source": [
    "# In pytorch,\n",
    "def cov(xs):\n",
    "    nn = xs.size(0)\n",
    "    mat -= torch.mean(mat, dim=1, keepdim=True)\n",
    "    matt = mat.t()\n",
    "    return 1.0/nn * mat.matmul(matt).squeeze()"
   ]
  },
  {
   "cell_type": "markdown",
   "metadata": {},
   "source": [
    "## 3. PCA transformation matrix\n",
    "* We can achieve the matrix by using SVD"
   ]
  },
  {
   "cell_type": "code",
   "execution_count": null,
   "metadata": {},
   "outputs": [],
   "source": [
    "def get_eigen_vec(data_in):\n",
    "    cov_mat = cov(data_in)\n",
    "    _, _, v_mat = torch.svd(covariance_mat)\n",
    "    # each row of v_mat is an eigen vectors\n",
    "    # so inner product of eigen vectors with input data gives \n",
    "    # new data in new axis\n",
    "    return v_mat"
   ]
  },
  {
   "cell_type": "markdown",
   "metadata": {},
   "source": [
    "## 4. Combining codes"
   ]
  },
  {
   "cell_type": "code",
   "execution_count": 1,
   "metadata": {},
   "outputs": [],
   "source": [
    "import random\n",
    "import numpy as np\n",
    "import copy as cp\n",
    "\n",
    "import torch\n",
    "import torch.nn as nn\n",
    "from torch.autograd import Variable\n",
    "from torch import optim\n",
    "import torch.nn.functional as F"
   ]
  },
  {
   "cell_type": "code",
   "execution_count": 10,
   "metadata": {},
   "outputs": [
    {
     "data": {
      "text/plain": [
       "Parameter containing:\n",
       "tensor([[-0.3100, -0.9507],\n",
       "        [-0.9507,  0.3100]], requires_grad=True)"
      ]
     },
     "execution_count": 10,
     "metadata": {},
     "output_type": "execute_result"
    }
   ],
   "source": [
    "pca.fc.weight"
   ]
  },
  {
   "cell_type": "code",
   "execution_count": 71,
   "metadata": {},
   "outputs": [],
   "source": [
    "class PCA(nn.Module):\n",
    "    def __init__(self, data):\n",
    "        super().__init__()\n",
    "        dim_hidden = data.size(1)\n",
    "        self.fc = nn.Linear(dim_hidden, dim_hidden, bias=False)\n",
    "        self.fc.weight.requires_grad=False\n",
    "        self.fc_back = nn.Linear(dim_hidden, dim_hidden, bias=False)\n",
    "        self.fc_back.weight.requires_grad=False\n",
    "        self.get_eigen_vec(data)\n",
    "        \n",
    "    def cov(self, xs):\n",
    "        nn = xs.size(0)-1\n",
    "        xs = xs.t()\n",
    "        xsp = xs - torch.mean(xs, dim=1, keepdim=True)\n",
    "        xspt = xsp.t()\n",
    "        return 1.0/nn * xsp.matmul(xspt).squeeze()\n",
    "    \n",
    "    def get_eigen_vec(self, data_in):\n",
    "        \"\"\"\n",
    "        eigen_vec = u.T\n",
    "        u*u.T = I\n",
    "        \"\"\"\n",
    "        cov_mat = self.cov(data_in)\n",
    "        print(cov_mat)\n",
    "        print(cov_mat.size())\n",
    "        u_mat, eigen_val, v_mat = torch.svd(cov_mat) # u_mat = v_mat.T\n",
    "        print(u_mat.size(), eigen_val.size(), v_mat.size())\n",
    "        self.u_mat = u_mat\n",
    "        self.eigen_vec = u_mat.T\n",
    "        eigen_vec = u_mat.T\n",
    "        inverse_vec = u_mat\n",
    "        self.fc.weight.copy_(eigen_vec)\n",
    "        self.fc_back.weight.copy_(inverse_vec)\n",
    "        return u_mat, eigen_val, eigen_vec\n",
    "    \n",
    "    def forward(self, xs):\n",
    "        return self.fc(xs)\n",
    "    \n",
    "    def forward_back(self, zs, dim_recover=-1):\n",
    "        \"\"\"\n",
    "        zs : [batch, dim_hidden]\n",
    "        dim_recover : choose only dim_recover dimensions in low subspaces\n",
    "        \"\"\"\n",
    "        if dim_recover:\n",
    "            return self.fc_back(zs)\n",
    "        else:\n",
    "            # case1\n",
    "            #ret = self.fc_back(zs)\n",
    "            #ret[dim_recover:] = 0\n",
    "            #return ret\n",
    "        \n",
    "            # case2\n",
    "            \"\"\"\n",
    "            high_rank_z = torch.zeros(zs.size(0), zs.size(1)-dim_recover)\n",
    "            low_rank_z = zs[:, :dim_recover]\n",
    "            zsp = torch.cat((low_rank_z, high_rank_z), dim=1)\n",
    "            new_mat = cp.copy(self.u_mat)\n",
    "            new_mat[:, dim_recover:] = 0\n",
    "            self.fc_back.weight.copy_(new_mat)\n",
    "            ret = self.fc_back(zsp)\n",
    "            self.fc_back.weight.copy_(self.u_mat)\n",
    "            return ret\n",
    "            \"\"\"\n",
    "            \"\"\"\n",
    "            high_rank_z = torch.zeros(zs.size(1)-dim_recover)\n",
    "            low_rank_z = zs[:, :dim_recover]\n",
    "            zsp = torch.cat((low_rank_z, high_rank_z), dim=1)\n",
    "            self.fc_back(zsp)\n",
    "            \"\"\"\n",
    "            zs[:, dim_recover:] = 0\n",
    "            return self.fc_back(zs)"
   ]
  },
  {
   "cell_type": "markdown",
   "metadata": {},
   "source": [
    "## Test"
   ]
  },
  {
   "cell_type": "markdown",
   "metadata": {},
   "source": [
    "### linear pointts"
   ]
  },
  {
   "cell_type": "code",
   "execution_count": 72,
   "metadata": {},
   "outputs": [
    {
     "name": "stdout",
     "output_type": "stream",
     "text": [
      "tensor([[ 825.0000, 2487.5396],\n",
      "        [2487.5396, 7569.9756]])\n",
      "torch.Size([2, 2])\n",
      "torch.Size([2, 2]) torch.Size([2]) torch.Size([2, 2])\n",
      "Parameter containing:\n",
      "tensor([[-0.3124, -0.9499],\n",
      "        [-0.9499,  0.3124]])\n"
     ]
    },
    {
     "data": {
      "image/png": "[encoded data removed]",
      "text/plain": [
       "<Figure size 432x288 with 2 Axes>"
      ]
     },
     "metadata": {
      "needs_background": "light"
     },
     "output_type": "display_data"
    }
   ],
   "source": [
    "xs = range(1, 100)\n",
    "ys = [x*3 + random.random()*30 + 70 for x in xs]\n",
    "\n",
    "xs = torch.tensor(xs, dtype=torch.float)\n",
    "ys = torch.tensor(ys)\n",
    "xs = xs.unsqueeze(1)\n",
    "ys = ys.unsqueeze(1)\n",
    "data= torch.cat((xs, ys), dim=1)\n",
    "\n",
    "pca = PCA(data) # 2 for (xs_i, ys_i)\n",
    "datap = pca(data)\n",
    "print(pca.fc.weight)\n",
    "\n",
    "z1s = datap[:,0]\n",
    "z2s = datap[:,1]\n",
    "\n",
    "import matplotlib.pyplot as plt\n",
    "\n",
    "plt.subplot(1,2,1)\n",
    "plt.plot(xs.detach().numpy(), ys.detach().numpy(), \n",
    "         linestyle='None', marker='.')\n",
    "plt.subplot(1,2,2)\n",
    "plt.plot(z1s.detach().numpy(), z2s.detach().numpy(), \n",
    "         linestyle='None', marker='.')\n",
    "plt.show()"
   ]
  },
  {
   "cell_type": "code",
   "execution_count": 73,
   "metadata": {},
   "outputs": [
    {
     "name": "stdout",
     "output_type": "stream",
     "text": [
      "tensor([[ 825.0000, 2487.5396],\n",
      "        [2487.5396, 7569.9756]])\n",
      "torch.Size([2, 2])\n",
      "torch.Size([2, 2]) torch.Size([2]) torch.Size([2, 2])\n"
     ]
    }
   ],
   "source": [
    "u_mat, eigan_val, v_mat = pca.get_eigen_vec(data)"
   ]
  },
  {
   "cell_type": "code",
   "execution_count": 74,
   "metadata": {},
   "outputs": [],
   "source": [
    "zs0 = torch.zeros(z1s.size()).view(-1,1)\n",
    "zs1_only = torch.cat((z1s.view(-1,1), zs0),dim=1)\n",
    "zs2_only = torch.cat((zs0, z2s.view(-1,1)),dim=1) "
   ]
  },
  {
   "cell_type": "code",
   "execution_count": 75,
   "metadata": {},
   "outputs": [],
   "source": [
    "#xs_new = pca.forward_back(zs1_only)\n",
    "xs_new = pca.forward_back(zs1_only, 1)\n",
    "xs_new1 = xs_new[:,0]\n",
    "xs_new2 = xs_new[:,1]\n",
    "\n",
    "xs_newb = pca.forward_back(zs2_only)\n",
    "xs_new1b = xs_newb[:,0]\n",
    "xs_new2b = xs_newb[:,1]\n",
    "\n",
    "xs_new_orig = pca.forward_back(datap)\n",
    "xs_new_orig1 = xs_new_orig[:,0]\n",
    "xs_new_orig2 = xs_new_orig[:,1]"
   ]
  },
  {
   "cell_type": "code",
   "execution_count": 76,
   "metadata": {},
   "outputs": [
    {
     "data": {
      "image/png": "[encoded data removed]",
      "text/plain": [
       "<Figure size 432x288 with 3 Axes>"
      ]
     },
     "metadata": {
      "needs_background": "light"
     },
     "output_type": "display_data"
    }
   ],
   "source": [
    "plt.subplot(1,3,1)\n",
    "plt.plot(xs.detach().numpy(), ys.detach().numpy(), \n",
    "        linestyle='None', marker='.')\n",
    "plt.plot(xs_new1.detach().numpy(), xs_new2.detach().numpy(), \n",
    "         linestyle='None', marker='.', color='r')\n",
    "plt.subplot(1,3,2)\n",
    "plt.plot(xs.detach().numpy(), ys.detach().numpy(), \n",
    "        linestyle='None', marker='.')\n",
    "plt.plot(xs_new1b.detach().numpy(), xs_new2b.detach().numpy(), \n",
    "         linestyle='None', marker='.', color='r')\n",
    "plt.subplot(1,3,3)\n",
    "plt.plot(xs.detach().numpy(), ys.detach().numpy(), \n",
    "        linestyle='None', marker='+')\n",
    "plt.plot(xs_new_orig1.detach().numpy(), \n",
    "         xs_new_orig2.detach().numpy(), \n",
    "         linestyle='None', marker='.', color='r')\n",
    "plt.show()"
   ]
  },
  {
   "cell_type": "code",
   "execution_count": 27,
   "metadata": {},
   "outputs": [],
   "source": [
    "loss = nn.MSELoss()"
   ]
  },
  {
   "cell_type": "code",
   "execution_count": 35,
   "metadata": {},
   "outputs": [
    {
     "data": {
      "text/plain": [
       "tensor(455.9865)"
      ]
     },
     "execution_count": 35,
     "metadata": {},
     "output_type": "execute_result"
    }
   ],
   "source": [
    "loss(data, xs_new)"
   ]
  },
  {
   "cell_type": "code",
   "execution_count": 33,
   "metadata": {},
   "outputs": [
    {
     "data": {
      "text/plain": [
       "tensor([[  1.0000,  88.9090],\n",
       "        [  2.0000,  80.9724],\n",
       "        [  3.0000, 101.9037],\n",
       "        [  4.0000, 104.6875],\n",
       "        [  5.0000, 107.0209],\n",
       "        [  6.0000, 107.5328],\n",
       "        [  7.0000, 108.3498],\n",
       "        [  8.0000, 110.7477],\n",
       "        [  9.0000, 117.5759],\n",
       "        [ 10.0000, 116.2733]])"
      ]
     },
     "execution_count": 33,
     "metadata": {},
     "output_type": "execute_result"
    }
   ],
   "source": [
    "data[:10,:10]"
   ]
  },
  {
   "cell_type": "code",
   "execution_count": 30,
   "metadata": {},
   "outputs": [
    {
     "data": {
      "text/plain": [
       "tensor([[  1.0000,  88.9090],\n",
       "        [  2.0000,  80.9724],\n",
       "        [  3.0000, 101.9037],\n",
       "        [  4.0000, 104.6875],\n",
       "        [  5.0000, 107.0209],\n",
       "        [  6.0000, 107.5328],\n",
       "        [  7.0000, 108.3498],\n",
       "        [  8.0000, 110.7477],\n",
       "        [  9.0000, 117.5759],\n",
       "        [ 10.0000, 116.2733]])"
      ]
     },
     "execution_count": 30,
     "metadata": {},
     "output_type": "execute_result"
    }
   ],
   "source": [
    "xs_new_orig[:10, :10]"
   ]
  },
  {
   "cell_type": "code",
   "execution_count": 44,
   "metadata": {},
   "outputs": [
    {
     "data": {
      "text/plain": [
       "tensor([[0.0984, 0.9016],\n",
       "        [0.9016, 0.0984]])"
      ]
     },
     "execution_count": 44,
     "metadata": {},
     "output_type": "execute_result"
    }
   ],
   "source": [
    "u_mat*(v_mat.T)"
   ]
  },
  {
   "cell_type": "code",
   "execution_count": 45,
   "metadata": {},
   "outputs": [
    {
     "data": {
      "text/plain": [
       "tensor([[-0.3137, -0.9495],\n",
       "        [-0.9495,  0.3137]])"
      ]
     },
     "execution_count": 45,
     "metadata": {},
     "output_type": "execute_result"
    }
   ],
   "source": [
    "v_mat.T"
   ]
  },
  {
   "cell_type": "code",
   "execution_count": 46,
   "metadata": {},
   "outputs": [
    {
     "data": {
      "text/plain": [
       "tensor([[-0.3137, -0.9495],\n",
       "        [-0.9495,  0.3137]])"
      ]
     },
     "execution_count": 46,
     "metadata": {},
     "output_type": "execute_result"
    }
   ],
   "source": [
    "v_mat"
   ]
  },
  {
   "cell_type": "code",
   "execution_count": 47,
   "metadata": {},
   "outputs": [
    {
     "data": {
      "text/plain": [
       "tensor([[-0.3137, -0.9495],\n",
       "        [-0.9495,  0.3137]])"
      ]
     },
     "execution_count": 47,
     "metadata": {},
     "output_type": "execute_result"
    }
   ],
   "source": [
    "u_mat"
   ]
  },
  {
   "cell_type": "code",
   "execution_count": 48,
   "metadata": {},
   "outputs": [
    {
     "data": {
      "text/plain": [
       "-0.99995794"
      ]
     },
     "execution_count": 48,
     "metadata": {},
     "output_type": "execute_result"
    }
   ],
   "source": [
    "-0.3137**2 + -0.9495**2"
   ]
  },
  {
   "cell_type": "code",
   "execution_count": null,
   "metadata": {},
   "outputs": [],
   "source": [
    "0.3137*0.9495 + "
   ]
  }
 ],
 "metadata": {
  "kernelspec": {
   "display_name": "Python 3",
   "language": "python",
   "name": "python3"
  },
  "language_info": {
   "codemirror_mode": {
    "name": "ipython",
    "version": 3
   },
   "file_extension": ".py",
   "mimetype": "text/x-python",
   "name": "python",
   "nbconvert_exporter": "python",
   "pygments_lexer": "ipython3",
   "version": "3.6.9"
  }
 },
 "nbformat": 4,
 "nbformat_minor": 4
}
